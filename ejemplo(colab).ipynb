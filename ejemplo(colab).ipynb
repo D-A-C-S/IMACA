{
  "nbformat": 4,
  "nbformat_minor": 0,
  "metadata": {
    "colab": {
      "name": "ejemplo(colab).ipynb",
      "provenance": [],
      "collapsed_sections": [],
      "toc_visible": true
    },
    "kernelspec": {
      "name": "python3",
      "display_name": "Python 3"
    },
    "accelerator": "GPU"
  },
  "cells": [
    {
      "cell_type": "markdown",
      "metadata": {
        "id": "uBtSDuwc2eHB"
      },
      "source": [
        "Descarga de datos"
      ]
    },
    {
      "cell_type": "code",
      "metadata": {
        "colab": {
          "base_uri": "https://localhost:8080/"
        },
        "id": "l4StOg-Bc4rR",
        "outputId": "430194d3-46a6-4e82-9077-c73649b46a9e"
      },
      "source": [
        "!wget --quiet https://data.mendeley.com/public-files/datasets/yzzcbyvgmh/files/d5384645-3770-47b4-8272-0a7f96d4c81d/file_downloaded -O Cedro.zip\n",
        "!wget --quiet https://data.mendeley.com/public-files/datasets/yzzcbyvgmh/files/36b896d5-fcce-4de4-88a9-9b9297e47e75/file_downloaded -O Sajo.zip\n",
        "!unzip -q /content/Sajo.zip -d Data\n",
        "!unzip -q /content/Cedro.zip -d Data\n",
        "!pip install --quiet efficientnet_pytorch\n",
        "!git clone --quiet -b baseline https://github.com/D-A-C-S/IMACA.git"
      ],
      "execution_count": 10,
      "outputs": [
        {
          "output_type": "stream",
          "text": [
            "warning:  /content/Cedro.zip appears to use backslashes as path separators\n"
          ],
          "name": "stdout"
        }
      ]
    },
    {
      "cell_type": "code",
      "metadata": {
        "colab": {
          "base_uri": "https://localhost:8080/"
        },
        "id": "3ivFGWYo63b0",
        "outputId": "f71b3522-1894-4fb6-c16f-9576cee10801"
      },
      "source": [
        "cd IMACA"
      ],
      "execution_count": 17,
      "outputs": [
        {
          "output_type": "stream",
          "text": [
            "/content/IMACA\n"
          ],
          "name": "stdout"
        }
      ]
    },
    {
      "cell_type": "markdown",
      "metadata": {
        "id": "5XWzebVC2ajT"
      },
      "source": [
        "Archivo de configuración editable"
      ]
    },
    {
      "cell_type": "code",
      "metadata": {
        "colab": {
          "base_uri": "https://localhost:8080/"
        },
        "id": "LAI63Hb-t6j6",
        "outputId": "01f16554-048a-417c-ce05-0d482e95dea2"
      },
      "source": [
        "%%writefile config.yaml\n",
        "\n",
        "train_folder : \"/content/Data\"\n",
        "dev_folder : \"/content/Data\"\n",
        "\n",
        "batch_size : 32\n",
        "epochs : 1\n",
        "\n",
        "image_size : 256\n",
        "crop_size : 240\n",
        "\n",
        "dropout_prob : 0.6\n",
        "num_frozen_layers : 14 \n",
        "\n",
        "learning_rate : 0.001\n",
        "weight_decay : 0.0001"
      ],
      "execution_count": 18,
      "outputs": [
        {
          "output_type": "stream",
          "text": [
            "Overwriting config.yaml\n"
          ],
          "name": "stdout"
        }
      ]
    },
    {
      "cell_type": "code",
      "metadata": {
        "colab": {
          "base_uri": "https://localhost:8080/"
        },
        "id": "mkun5oqDdfVd",
        "outputId": "2eada89a-e20d-41e4-ea23-1ad12db47034"
      },
      "source": [
        "!python train.py"
      ],
      "execution_count": 19,
      "outputs": [
        {
          "output_type": "stream",
          "text": [
            "Especies:['Cedro costeño', 'Sajo']\n",
            "Loaded pretrained weights for efficientnet-b1\n",
            "Ajustando 6.06M de parametros\n",
            "epoch 1/1\n",
            "train_loss: 0.067 acc:0.978\n",
            "eval loss: 0.022 acc:0.992\n",
            "eval loss: 0.022 acc:0.992\n",
            "               precision    recall  f1-score   support\n",
            "\n",
            "Cedro costeño       0.99      0.99      0.99      1128\n",
            "         Sajo       0.99      0.99      0.99       823\n",
            "\n",
            "     accuracy                           0.99      1951\n",
            "    macro avg       0.99      0.99      0.99      1951\n",
            " weighted avg       0.99      0.99      0.99      1951\n",
            "\n",
            "mcc:0.98\n"
          ],
          "name": "stdout"
        }
      ]
    },
    {
      "cell_type": "markdown",
      "metadata": {
        "id": "YzMdl4g5y-xz"
      },
      "source": [
        "## Notas\n",
        "Este ejemplo entrena y evalua con las mismas imagenes: <br/>\n",
        "- Modificar *train_folder* y *dev_folder* para usar diferentes imagenes\n",
        "- Despues de entrenar,la matriz de confusion y el modelo son almacenados en la carpeta *Outputs*\n",
        "\n",
        "Estructura esperada para *train_folder* o *val_folder*:\n",
        "- folder\n",
        "  - especie_A\n",
        "    - una_imagen_de_especie_A.png\n",
        "    - otra_image_de_especie_A.jpg\n",
        "  - especie_B\n",
        "    - una_imagen_de_especie_B.png\n",
        "    - ...\n",
        "  - ...\n",
        "  -especie_N\n",
        "    - ..."
      ]
    },
    {
      "cell_type": "code",
      "metadata": {
        "id": "y_9rWrVAx4xB"
      },
      "source": [
        ""
      ],
      "execution_count": null,
      "outputs": []
    }
  ]
}